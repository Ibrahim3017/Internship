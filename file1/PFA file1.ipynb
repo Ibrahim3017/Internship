{
 "cells": [
  {
   "cell_type": "markdown",
   "id": "f3d896a8",
   "metadata": {},
   "source": [
    "# ASSIGNMENT-01 (SOLUTIONS)"
   ]
  },
  {
   "cell_type": "raw",
   "id": "6624e3cb",
   "metadata": {},
   "source": [
    "1-What will be the output of the following code snippet? def func (a, b): return b if a == 0 else func (b % a, a) print (func (30, 75))\n",
    " a) 10\n",
    " b) 20\n",
    " c) 15\n",
    " d) 0\n",
    " \n",
    "ANS: c) 15"
   ]
  },
  {
   "cell_type": "raw",
   "id": "63d4422f",
   "metadata": {},
   "source": [
    "2 numbers = (4, 7, 19, 2, 89, 45, 72, 22)\n",
    "sorted_numbers = sorted(numbers)\n",
    "even = lambda a: a % 2 == 0\n",
    "even_numbers = filter (even, sorted_numbers)\n",
    "print(type(even_numbers))\n",
    "a) Int\n",
    "b) Filter\n",
    "c) List\n",
    "d) Tuple\n",
    "\n",
    "ANS: b) Filter\n"
   ]
  },
  {
   "cell_type": "raw",
   "id": "3ca61736",
   "metadata": {},
   "source": [
    "3) As what datatype are the *args stored, when passed into \n",
    "a) Tuple \n",
    "b) List \n",
    "c) Dictionary \n",
    "d) none\n",
    "\n",
    "ANS: a) Tuple\n"
   ]
  },
  {
   "cell_type": "raw",
   "id": "44b2e1dd",
   "metadata": {},
   "source": [
    "4) set1 = {14, 3, 55} set2 = {82, 49, 62} set3={99,22,17} print(len(set1 + set2 + set3)) \n",
    "a) 105 \n",
    "b) 270 \n",
    "c) 0 \n",
    "d) Error\n",
    "\n",
    "ANS: d) Error\n"
   ]
  },
  {
   "cell_type": "raw",
   "id": "5e2de9ab",
   "metadata": {},
   "source": [
    "5) What keyword is used in Python to raise exceptions? \n",
    "a) raise \n",
    "b) try \n",
    "c) goto \n",
    "d) except\n",
    "\n",
    "ANS: a) raise\n"
   ]
  },
  {
   "cell_type": "raw",
   "id": "e37cc409",
   "metadata": {},
   "source": [
    "6) Which of the following modules need to be imported to handle date time computations in Python? \n",
    "a) timedate \n",
    "b) date \n",
    "c) datetime \n",
    "d) time\n",
    "\n",
    "ANS: c) datetime\n"
   ]
  },
  {
   "cell_type": "raw",
   "id": "ae275d84",
   "metadata": {},
   "source": [
    "7) What will be the output of the following code snippet? print(4**3 + (7 + 5)**(1 + 1)) \n",
    "a) 248 \n",
    "b) 169 \n",
    "c) 208 \n",
    "d) 233\n",
    "\n",
    "ANS: c) 208\n"
   ]
  },
  {
   "cell_type": "raw",
   "id": "6d82088c",
   "metadata": {},
   "source": [
    "8) Which of the following functions converts date to corresponding time in Python? \n",
    "a) strptime \n",
    "b) strftime \n",
    "c) both a) and \n",
    "b) d) None\n",
    "\n",
    "ANS: a) strptime \n"
   ]
  },
  {
   "cell_type": "raw",
   "id": "bd6d62d7",
   "metadata": {},
   "source": [
    "9) The python tuple is _____ in nature. \n",
    "a) mutable \n",
    "b) immutable \n",
    "c)unchangeable \n",
    "d) none\n",
    "\n",
    "ANS: b) immutable\n"
   ]
  },
  {
   "cell_type": "raw",
   "id": "b0b34f67",
   "metadata": {},
   "source": [
    "10) The ___ is a built-in function that returns a range object that consists of series of integer numbers, which we can iterate using a for loop. \n",
    "A. range() \n",
    "B. set() \n",
    "C. dictionary{} \n",
    "D. None of the mentioned above\n",
    "\n",
    "ANS: A. range()\n"
   ]
  },
  {
   "cell_type": "raw",
   "id": "660a38fd",
   "metadata": {},
   "source": [
    "11) Amongst which of the following is a function which does not have any name? \n",
    "A. Del function \n",
    "B. Show function \n",
    "C. Lambda function \n",
    "D. None of the mentioned above\n",
    "\n",
    "ANS: C. Lambda function\n"
   ]
  },
  {
   "cell_type": "raw",
   "id": "3b9f2a9e",
   "metadata": {},
   "source": [
    "12) The module Pickle is used to ___. \n",
    "A. Serializing Python object structure \n",
    "B. De-serializing Python object structure \n",
    "C. Both A and B \n",
    "D. None of the mentioned above\n",
    "\n",
    "ANS: C. Both A and B\n"
   ]
  },
  {
   "cell_type": "raw",
   "id": "c8ecae23",
   "metadata": {},
   "source": [
    "13) Amongst which of the following is / are the method of convert Python objects for writing data in a binary file? \n",
    "A. set() method \n",
    "B. dump() method \n",
    "C. load() method \n",
    "D. None of the mentioned above\n",
    "\n",
    "ANS: B. dump() method\n"
   ]
  },
  {
   "cell_type": "raw",
   "id": "298148a5",
   "metadata": {},
   "source": [
    "14) Amongst which of the following is / are the method used to unpickling data from a binary file? \n",
    "A. load() \n",
    "B. set() method \n",
    "C. dump() method \n",
    "D. None of the mentioned above\n",
    "\n",
    "ANS: A. load() \n"
   ]
  },
  {
   "cell_type": "raw",
   "id": "81166971",
   "metadata": {},
   "source": [
    "15) A text file contains only textual information consisting of ___. \n",
    "A. Alphabets \n",
    "B. Numbers \n",
    "C. Special symbols \n",
    "D. All of the mentioned above\n",
    "\n",
    "ANS: D. All of the mentioned above\n"
   ]
  },
  {
   "cell_type": "raw",
   "id": "bc12dace",
   "metadata": {},
   "source": [
    "16) Which Python code could replace the ellipsis (...) below to get the following output? (Select all that apply.) captains = { \"Enterprise\": \"Picard\", \"Voyager\": \"Janeway\", \"Defiant\": \"Sisko\", } Enterprise Picard, Voyager Janeway Defiant Sisko \n",
    "a) for ship, captain in captains.items(): print(ship, captain) \n",
    "b) for ship in captains: print(ship, captains[ship]) \n",
    "c) for ship in captains: print(ship, captains) \n",
    "d) both a and b\n",
    "\n",
    "ANS: d) both a and b\n"
   ]
  },
  {
   "cell_type": "raw",
   "id": "cdd6c376",
   "metadata": {},
   "source": [
    "17) Which of the following lines of code will create an empty dictionary named captains? \n",
    "a) captains = {dict} \n",
    "b) type(captains) \n",
    "c) captains.dict() \n",
    "d) captains = {}\n",
    "\n",
    "ANS: d) captains = {}\n"
   ]
  },
  {
   "cell_type": "raw",
   "id": "7110b237",
   "metadata": {},
   "source": [
    "18) Now you have your empty dictionary named captains. It’s time to add some data! Specifically, you want to add the key-value pairs \"Enterprise\": \"Picard\", \"Voyager\": \"Janeway\", and \"Defiant\": \"Sisko\". Which of the following code snippets will successfully add these key-value pairs to the existing captains dictionary? \n",
    "a) captains{\"Enterprise\" = \"Picard\"} captains{\"Voyager\" = \"Janeway\"} captains{\"Defiant\" = \"Sisko\"} \n",
    "b) captains[\"Enterprise\"] = \"Picard\" captains[\"Voyager\"] = \"Janeway\" captains[\"Defiant\"] = \"Sisko\" \n",
    "c) captains = { \"Enterprise\": \"Picard\", \"Voyager\": \"Janeway\", \"Defiant\": \"Sisko\", } \n",
    "d) None of the above\n",
    "\n",
    "ANS: c) captains = { \"Enterprise\": \"Picard\", \"Voyager\": \"Janeway\", \"Defiant\": \"Sisko\", } \n"
   ]
  },
  {
   "cell_type": "raw",
   "id": "6ce46643",
   "metadata": {},
   "source": [
    "19 ) You’re really building out the Federation Starfleet now! Here’s what you have: captains = { \"Enterprise\": \"Picard\", \"Voyager\": \"Janeway\", \"Defiant\": \"Sisko\", \"Discovery\": \"unknown\", }Now, say you want to display the ship and captain names contained in the dictionary, but you also want to provide some additional context. How could you do it? \n",
    "a) for item in captains.items(): print(f\"The [ship] is captained by [captain].\") \n",
    "b) for ship, captain in captains.items(): print(f\"The {ship} is captained by {captain}.\") \n",
    "c) for captain, ship in captains.items(): print(f\"The {ship} is captained by {captain}.\") \n",
    "d) All are correct\n",
    "\n",
    "ANS: b) for ship, captain in captains.items(): print(f\"The {ship} is captained by {captain}.\") \n"
   ]
  },
  {
   "cell_type": "raw",
   "id": "21bb337d",
   "metadata": {},
   "source": [
    "20 ) You’ve created a dictionary, added data, checked for the existence of keys, and iterated over it with a for loop. Now you’re ready to delete a key from this dictionary: captains = { \"Enterprise\": \"Picard\", \"Voyager\": \"Janeway\", \"Defiant\": \"Sisko\", \"Discovery\": \"unknown\", } What statement will remove the entry for the key \"Discovery\"? \n",
    "a) del captains \n",
    "b) captains.remove() \n",
    "c) del captains[\"Discovery\"] \n",
    "d) captains[\"Discovery\"].pop()\n",
    "\n",
    "ANS: c) del captains[\"Discovery\"] \n",
    "\n"
   ]
  },
  {
   "cell_type": "code",
   "execution_count": null,
   "id": "88ea84ac",
   "metadata": {},
   "outputs": [],
   "source": []
  },
  {
   "cell_type": "code",
   "execution_count": null,
   "id": "5c922257",
   "metadata": {},
   "outputs": [],
   "source": []
  },
  {
   "cell_type": "code",
   "execution_count": null,
   "id": "9de7631e",
   "metadata": {},
   "outputs": [],
   "source": []
  }
 ],
 "metadata": {
  "kernelspec": {
   "display_name": "Python 3 (ipykernel)",
   "language": "python",
   "name": "python3"
  },
  "language_info": {
   "codemirror_mode": {
    "name": "ipython",
    "version": 3
   },
   "file_extension": ".py",
   "mimetype": "text/x-python",
   "name": "python",
   "nbconvert_exporter": "python",
   "pygments_lexer": "ipython3",
   "version": "3.9.12"
  }
 },
 "nbformat": 4,
 "nbformat_minor": 5
}
