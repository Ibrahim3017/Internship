{
 "cells": [
  {
   "cell_type": "markdown",
   "id": "1e6b9cba",
   "metadata": {},
   "source": [
    "# Solutions"
   ]
  },
  {
   "cell_type": "raw",
   "id": "746603e8",
   "metadata": {},
   "source": [
    "1. Which of the following operators is used to calculate remainder in a division? \n",
    "A) # \n",
    "B) & \n",
    "C) % \n",
    "D) $\n",
    "Ans: Option C\n"
   ]
  },
  {
   "cell_type": "raw",
   "id": "26410991",
   "metadata": {},
   "source": [
    "2. In python 2//3 is equal to? \n",
    "A) 0.666 \n",
    "B) 0 \n",
    "C) 1 \n",
    "D) 0.67\n",
    "Ans: Option B\n"
   ]
  },
  {
   "cell_type": "raw",
   "id": "e6d9d55f",
   "metadata": {},
   "source": [
    "3. In python, 6<<2 is equal to?\n",
    "A) 36 \n",
    "B) 10\n",
    "C) 24 \n",
    "D) 45\n",
    "Ans: Option C\n"
   ]
  },
  {
   "cell_type": "raw",
   "id": "441f3a34",
   "metadata": {},
   "source": [
    "4. In python, 6&2 will give which of the following as output? \n",
    "A) 2 \n",
    "B) True \n",
    "C) False \n",
    "D) 0\n",
    "Ans: Option A\n",
    "\n"
   ]
  },
  {
   "cell_type": "raw",
   "id": "6dd25ef5",
   "metadata": {},
   "source": [
    "5. In python, 6|2 will give which of the following as output?\n",
    " A) 2 \n",
    "B) 4 \n",
    "C) 0 \n",
    "D) 6\n",
    "Ans: Option D\n"
   ]
  },
  {
   "cell_type": "raw",
   "id": "eec0f229",
   "metadata": {},
   "source": [
    "6. What does the finally keyword denotes in python? \n",
    "A) It is used to mark the end of the code \n",
    "B) It encloses the lines of code which will be executed if any error occurs while executing the lines of code in the try block. \n",
    "C) the finally block will be executed no matter if the try block raises an error or not. \n",
    "D) None of the above\n",
    "Ans: Option C\n"
   ]
  },
  {
   "cell_type": "raw",
   "id": "8233abfc",
   "metadata": {},
   "source": [
    "7. What does raise keyword is used for in python? \n",
    "A) It is used to raise an exception. \n",
    "B) It is used to define lambda function \n",
    "C) it's not a keyword in python. \n",
    "D) None of the above\n",
    "Ans: Option A\n"
   ]
  },
  {
   "cell_type": "raw",
   "id": "f868b271",
   "metadata": {},
   "source": [
    "8. Which of the following is a common use case of yield keyword in python? \n",
    "A) in defining an iterator \n",
    "B) while defining a lambda function \n",
    "C) in defining a generator \n",
    "D) in for loop.\n",
    "Ans: Option C\n"
   ]
  },
  {
   "cell_type": "raw",
   "id": "e1c8e6be",
   "metadata": {},
   "source": [
    "9. Which of the following are the valid variable names? \n",
    "A) _abc \n",
    "B) 1abc \n",
    "C) abc2 \n",
    "D) None of the above\n",
    "Ans: Option A\n"
   ]
  },
  {
   "cell_type": "raw",
   "id": "0f75a0a1",
   "metadata": {},
   "source": [
    "10. Which of the following are the keywords in python? \n",
    "A) yield \n",
    "B) raise \n",
    "C) look-in \n",
    "D) all of the above\n",
    "Ans: Option A & B\n"
   ]
  },
  {
   "cell_type": "code",
   "execution_count": 4,
   "id": "95477e57",
   "metadata": {},
   "outputs": [
    {
     "name": "stdout",
     "output_type": "stream",
     "text": [
      "The factorial of 7 is 5040\n"
     ]
    }
   ],
   "source": [
    "11.#Write a python program to find the factorial of a number.\n",
    "num = 7\n",
    "\n",
    "# To take input from the user\n",
    "#num = int(input(\"Enter a number: \"))\n",
    "\n",
    "factorial = 1\n",
    "\n",
    "# check if the number is negative, positive or zero\n",
    "if num < 0:\n",
    "   print(\"Sorry, factorial does not exist for negative numbers\")\n",
    "elif num == 0:\n",
    "   print(\"The factorial of 0 is 1\")\n",
    "else:\n",
    "   for i in range(1,num + 1):\n",
    "       factorial = factorial*i\n",
    "   print(\"The factorial of\",num,\"is\",factorial)"
   ]
  },
  {
   "cell_type": "code",
   "execution_count": 7,
   "id": "b9fc5081",
   "metadata": {},
   "outputs": [
    {
     "name": "stdout",
     "output_type": "stream",
     "text": [
      "Enter any number : 2\n",
      "2 is a PRIME number\n",
      "Enter any number : 25\n",
      "25 is NOT a PRIME number, it is a COMPOSITE number\n"
     ]
    }
   ],
   "source": [
    "12. #Write a python program to find whether a number is prime or composite.\n",
    "\n",
    "#To see if it is prime number\n",
    "num = int(input(\"Enter any number : \"))\n",
    "if num > 1:\n",
    "    for i in range(2, num):\n",
    "        if (num % i) == 0:\n",
    "            print(num, \"is NOT a PRIME number, it is a COMPOSITE number\")\n",
    "            break\n",
    "    else:\n",
    "        print(num, \"is a PRIME number\")\n",
    "elif num == 0 or 1:\n",
    "    print(num, \"is a neither Prime NOR Composite number\")\n",
    "else:\n",
    "    print()\n",
    "\n",
    "#To see if it is composite number\n",
    "num = int(input(\"Enter any number : \"))\n",
    "if num > 1:\n",
    "    for i in range(2, num):\n",
    "        if (num % i) == 0:\n",
    "            print(num, \"is NOT a PRIME number, it is a COMPOSITE number\")\n",
    "            break\n",
    "    else:\n",
    "        print(num, \"is a PRIME number\")\n",
    "elif num == 0 or 1:\n",
    "    print(num, \"is a neither Prime NOR Composite number\")\n",
    "else:\n",
    "    print()\n"
   ]
  },
  {
   "cell_type": "code",
   "execution_count": 9,
   "id": "9bf6a9a6",
   "metadata": {},
   "outputs": [
    {
     "name": "stdout",
     "output_type": "stream",
     "text": [
      "Yes\n"
     ]
    }
   ],
   "source": [
    "13. #Write a python program to check whether a given string is palindrome or not\n",
    "# function which return reverse of a string\n",
    " \n",
    "def isPalindrome(s):\n",
    "    return s == s[::-1]\n",
    " \n",
    " \n",
    "# Driver code\n",
    "s = \"malayalam\"\n",
    "ans = isPalindrome(s)\n",
    " \n",
    "if ans:\n",
    "    print(\"Yes\")\n",
    "else:\n",
    "    print(\"No\")\n"
   ]
  },
  {
   "cell_type": "code",
   "execution_count": 11,
   "id": "3d4f4e43",
   "metadata": {},
   "outputs": [
    {
     "name": "stdout",
     "output_type": "stream",
     "text": [
      "Hypotenuse = 5.0\n",
      "Adjacent = 4.0\n",
      "Opposite = 3.0\n",
      "You know the answer!\n"
     ]
    }
   ],
   "source": [
    "14. #Write a Python program to get the third side of right-angled triangle from two given sides.\n",
    "def pythagoras(opposite_side,adjacent_side,hypotenuse):\n",
    "        if opposite_side == str(\"x\"):\n",
    "            return (\"Opposite = \" + str(((hypotenuse**2) - (adjacent_side**2))**0.5))\n",
    "        elif adjacent_side == str(\"x\"):\n",
    "            return (\"Adjacent = \" + str(((hypotenuse**2) - (opposite_side**2))**0.5))\n",
    "        elif hypotenuse == str(\"x\"):\n",
    "            return (\"Hypotenuse = \" + str(((opposite_side**2) + (adjacent_side**2))**0.5))\n",
    "        else:\n",
    "            return \"You know the answer!\"\n",
    "    \n",
    "print(pythagoras(3,4,'x'))\n",
    "print(pythagoras(3,'x',5))\n",
    "print(pythagoras('x',4,5))\n",
    "print(pythagoras(3,4,5))\n"
   ]
  },
  {
   "cell_type": "code",
   "execution_count": 14,
   "id": "f367d8f5",
   "metadata": {},
   "outputs": [
    {
     "name": "stdout",
     "output_type": "stream",
     "text": [
      "Count of all characters in GeeksforGeeks is :\n",
      " {'G': 2, 'e': 4, 'k': 2, 's': 2, 'f': 1, 'o': 1, 'r': 1}\n"
     ]
    }
   ],
   "source": [
    "15. #Write a python program to print the frequency of each of the characters present in a given string.\n",
    "# Python3 code to demonstrate\n",
    "# each occurrence frequency using\n",
    "# naive method\n",
    " \n",
    "# initializing string\n",
    "test_str = \"GeeksforGeeks\"\n",
    " \n",
    "# using naive method to get count\n",
    "# of each element in string\n",
    "all_freq = {}\n",
    " \n",
    "for i in test_str:\n",
    "    if i in all_freq:\n",
    "        all_freq[i] += 1\n",
    "    else:\n",
    "        all_freq[i] = 1\n",
    " \n",
    "# printing result\n",
    "print(\"Count of all characters in GeeksforGeeks is :\\n \"\n",
    "      + str(all_freq))\n",
    "\n"
   ]
  },
  {
   "cell_type": "code",
   "execution_count": null,
   "id": "dd805dc7",
   "metadata": {},
   "outputs": [],
   "source": []
  },
  {
   "cell_type": "code",
   "execution_count": null,
   "id": "fbd1f6e4",
   "metadata": {},
   "outputs": [],
   "source": []
  },
  {
   "cell_type": "code",
   "execution_count": null,
   "id": "32c4b04b",
   "metadata": {},
   "outputs": [],
   "source": []
  }
 ],
 "metadata": {
  "kernelspec": {
   "display_name": "Python 3 (ipykernel)",
   "language": "python",
   "name": "python3"
  },
  "language_info": {
   "codemirror_mode": {
    "name": "ipython",
    "version": 3
   },
   "file_extension": ".py",
   "mimetype": "text/x-python",
   "name": "python",
   "nbconvert_exporter": "python",
   "pygments_lexer": "ipython3",
   "version": "3.9.12"
  }
 },
 "nbformat": 4,
 "nbformat_minor": 5
}
